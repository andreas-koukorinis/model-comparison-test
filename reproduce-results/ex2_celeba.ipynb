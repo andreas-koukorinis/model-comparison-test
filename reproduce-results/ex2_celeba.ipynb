{
 "cells": [
  {
   "cell_type": "code",
   "execution_count": 1,
   "metadata": {},
   "outputs": [],
   "source": [
    "import reltest\n",
    "import reltest.util as util\n",
    "from reltest.mctest import MCTestPSI, MCTestCorr\n",
    "from reltest.mmd import MMD_U, med_heuristic\n",
    "from reltest import kernel\n",
    "from helper import download_to, summary, fid\n",
    "\n",
    "import numpy as np\n",
    "import os\n",
    "import logging\n",
    "import pandas as pd\n",
    "logging.getLogger().setLevel(logging.INFO)\n",
    "%load_ext autoreload\n",
    "%autoreload 2"
   ]
  },
  {
   "cell_type": "markdown",
   "metadata": {},
   "source": [
    "#### Download Dataset (Default = ```False```)\n",
    "\n",
    "To download dataset change ```download``` to ```True```."
   ]
  },
  {
   "cell_type": "code",
   "execution_count": 2,
   "metadata": {},
   "outputs": [],
   "source": [
    "download = False\n",
    "\n",
    "feature_url = \"http://ftp.tuebingen.mpg.de/pub/is/wittawat/kmod_share/problems/celeba/inception_features/\"\n",
    "feature_dir = os.getcwd() + \"/celeba_features\"\n",
    "celeba_classes = ['gen_smile', 'gen_nonsmile', 'ref_smile', 'ref_nonsmile']\n",
    "mix_ratio = [1,1,0,0]\n",
    "inception_dim = 2048\n",
    "## Normalised ratio\n",
    "celeb_class_ratio = dict(zip(celeba_classes, mix_ratio/np.sum(mix_ratio)))\n",
    "\n",
    "if download:\n",
    "    os.mkdir(feature_dir)\n",
    "    for celeba_class in  celeba_classes:\n",
    "        filename= '{}.npy'.format(celeba_class)\n",
    "        npy_path = os.path.join(feature_dir, filename)\n",
    "        url_path = os.path.join(feature_url, filename)\n",
    "        download_to(url_path,npy_path)"
   ]
  },
  {
   "cell_type": "markdown",
   "metadata": {},
   "source": [
    "### Problem Setting"
   ]
  },
  {
   "cell_type": "code",
   "execution_count": 3,
   "metadata": {},
   "outputs": [],
   "source": [
    "class CelebASampler():\n",
    "    def __init__(self, model_classes_mix, ref_classes_mix):\n",
    "        celeba_features = []\n",
    "        for celeba_class in  celeba_classes:\n",
    "            filename= '{}.npy'.format(celeba_class)\n",
    "            npy_path = os.path.join(feature_dir, filename)\n",
    "            celeba_features.append(np.load(npy_path))\n",
    "        self.celeba_features =  dict(zip(celeba_classes, celeba_features))\n",
    "        self.model_classes_mix = model_classes_mix\n",
    "        self.ref_classes_mix = ref_classes_mix\n",
    "    \n",
    "    def sample(self, n_samples, seed):\n",
    "        ## DISJOINT SET\n",
    "        model_features = {}\n",
    "        ref_samples = []\n",
    "        with util.NumpySeedContext(seed=seed):\n",
    "            ## FOR EACH CELEBA CLASS\n",
    "            for key, features in self.celeba_features.items():\n",
    "                # CALCULATE HOW MUCH SHOULD BE IN THE REFERENCE POOL\n",
    "                n_ref_samples = int(np.round(self.ref_classes_mix[key] * n_samples))\n",
    "                random_features = np.random.permutation(features)\n",
    "                \n",
    "                ## FOR THE CANDIDATE MODELS\n",
    "                model_features[key] = random_features[n_ref_samples:]\n",
    "                ## FOR THE REFERENCE\n",
    "                ref_samples.append(random_features[:n_ref_samples])\n",
    "        \n",
    "        ## samples for models\n",
    "        model_samples = []\n",
    "        for j,class_ratios in enumerate(model_classes_mix):\n",
    "            model_class_samples = []\n",
    "            for i, data_class in enumerate(class_ratios.keys()):\n",
    "                n_class_samples = int(np.round(class_ratios[data_class] * n_samples))\n",
    "                seed_class = i*n_samples+seed*j\n",
    "                with util.NumpySeedContext(seed=seed_class):\n",
    "                    indices = np.random.choice(model_features[data_class].shape[0], n_class_samples)\n",
    "                model_class_samples.append(model_features[data_class][indices])\n",
    "            class_samples = dict(zip(class_ratios.keys(),model_class_samples))\n",
    "            model_class_stack = np.vstack(list(class_samples.values()))\n",
    "            model_samples.append(model_class_stack)\n",
    "            assert model_class_stack.shape[0] == n_samples, \"Sample size mismatch: {0} instead of {1}\".format(samples.shape[0],n)\n",
    "            \n",
    "        with util.NumpySeedContext(seed=seed+5):\n",
    "            ref_samples = np.random.permutation(np.vstack(ref_samples))\n",
    "            model_samples = [np.random.permutation(samples) for samples in model_samples]\n",
    "        assert ref_samples.shape[0] == n_samples, \"Sample size mismatch: {0} instead of {1}\".format(samples.shape[0],n)\n",
    "        return model_samples, ref_samples"
   ]
  },
  {
   "cell_type": "code",
   "execution_count": 4,
   "metadata": {},
   "outputs": [],
   "source": [
    "model_mixtures = [\n",
    "    [0.50,0.50,0.0,0.0], # Model 5\n",
    "    [0.0,0.0,0.60,0.40], # Model 2\n",
    "    [0.0,0.0,0.40,0.60], # Model 3\n",
    "    [0.0,0.0,0.51,0.49], # Model 4\n",
    "    [0.0,0.0,0.52,0.48], # Model 1\n",
    "]\n",
    "ref_mixtures = [[0,0,0.5,0.5]]\n",
    "def class_mix_ratio(classes, mixtures):\n",
    "    return [dict(zip(classes, mixture/np.sum(mixture))) for mixture in mixtures]\n",
    "model_classes_mix = class_mix_ratio(celeba_classes, model_mixtures)\n",
    "ref_classes_mix = class_mix_ratio(celeba_classes, ref_mixtures)[0]\n",
    "n_samples = 2000\n",
    "n_models = len(model_mixtures)\n",
    "setting = {'n': n_models,\n",
    "           'dim':inception_dim}\n",
    "celeba = CelebASampler(model_classes_mix,ref_classes_mix)"
   ]
  },
  {
   "cell_type": "code",
   "execution_count": 5,
   "metadata": {},
   "outputs": [
    {
     "name": "stderr",
     "output_type": "stream",
     "text": [
      "/Users/jenninglim/Documents/projects/model-comparison-test/reproduce-results/helper.py:158: ComplexWarning: Casting complex values to real discards the imaginary part\n",
      "  np.trace(cov_g) + np.trace(cov_r) - 2 * np.trace(covmean))\n",
      "WARNING: 2020-01-01 03:54:10,410: psi.test_significance(): Scale is not real or negative, test reject\n",
      "WARNING: 2020-01-01 04:23:20,982: psi.test_significance(): Scale is not real or negative, test reject\n",
      "WARNING: 2020-01-01 04:59:10,633: psi.test_significance(): Scale is not real or negative, test reject\n",
      "WARNING: 2020-01-01 05:34:30,925: psi.test_significance(): Scale is not real or negative, test reject\n",
      "WARNING: 2020-01-01 05:41:59,408: psi.test_significance(): Scale is not real or negative, test reject\n",
      "WARNING: 2020-01-01 06:09:25,721: psi.test_significance(): Scale is not real or negative, test reject\n",
      "WARNING: 2020-01-01 09:49:03,934: psi.test_significance(): Scale is not real or negative, test reject\n",
      "WARNING: 2020-01-01 11:29:07,010: psi.test_significance(): Scale is not real or negative, test reject\n",
      "WARNING: 2020-01-01 11:43:26,831: psi.test_significance(): Scale is not real or negative, test reject\n",
      "WARNING: 2020-01-01 11:43:26,832: psi.test_significance(): Scale is not real or negative, test reject\n",
      "WARNING: 2020-01-01 11:49:57,594: psi.test_significance(): Scale is not real or negative, test reject\n",
      "WARNING: 2020-01-01 11:49:57,596: psi.test_significance(): Scale is not real or negative, test reject\n",
      "WARNING: 2020-01-01 11:56:45,794: psi.test_significance(): Scale is not real or negative, test reject\n",
      "WARNING: 2020-01-01 12:11:32,676: psi.test_significance(): Scale is not real or negative, test reject\n",
      "WARNING: 2020-01-01 12:54:02,775: psi.test_significance(): Scale is not real or negative, test reject\n"
     ]
    },
    {
     "ename": "KeyboardInterrupt",
     "evalue": "",
     "output_type": "error",
     "traceback": [
      "\u001b[0;31m---------------------------------------------------\u001b[0m",
      "\u001b[0;31mKeyboardInterrupt\u001b[0m Traceback (most recent call last)",
      "\u001b[0;32m<ipython-input-5-7711b7d41211>\u001b[0m in \u001b[0;36m<module>\u001b[0;34m\u001b[0m\n\u001b[1;32m     20\u001b[0m     \u001b[0mfid_score\u001b[0m \u001b[0;34m=\u001b[0m \u001b[0;34m[\u001b[0m\u001b[0;34m]\u001b[0m\u001b[0;34m\u001b[0m\u001b[0;34m\u001b[0m\u001b[0m\n\u001b[1;32m     21\u001b[0m     \u001b[0;32mfor\u001b[0m \u001b[0mj\u001b[0m\u001b[0;34m,\u001b[0m \u001b[0mmodel_samples\u001b[0m \u001b[0;32min\u001b[0m \u001b[0menumerate\u001b[0m\u001b[0;34m(\u001b[0m\u001b[0mmodel_samples\u001b[0m\u001b[0;34m)\u001b[0m\u001b[0;34m:\u001b[0m\u001b[0;34m\u001b[0m\u001b[0;34m\u001b[0m\u001b[0m\n\u001b[0;32m---> 22\u001b[0;31m         \u001b[0mfid_score\u001b[0m\u001b[0;34m.\u001b[0m\u001b[0mappend\u001b[0m\u001b[0;34m(\u001b[0m\u001b[0mfid\u001b[0m\u001b[0;34m(\u001b[0m\u001b[0mmodel_samples\u001b[0m\u001b[0;34m,\u001b[0m\u001b[0mref_samples\u001b[0m\u001b[0;34m)\u001b[0m\u001b[0;34m)\u001b[0m\u001b[0;34m\u001b[0m\u001b[0;34m\u001b[0m\u001b[0m\n\u001b[0m\u001b[1;32m     23\u001b[0m     \u001b[0mfid_scores\u001b[0m\u001b[0;34m.\u001b[0m\u001b[0mappend\u001b[0m\u001b[0;34m(\u001b[0m\u001b[0mfid_score\u001b[0m\u001b[0;34m)\u001b[0m\u001b[0;34m\u001b[0m\u001b[0;34m\u001b[0m\u001b[0m\n",
      "\u001b[0;32m~/Documents/projects/model-comparison-test/reproduce-results/helper.py\u001b[0m in \u001b[0;36mfid\u001b[0;34m(X, Z)\u001b[0m\n\u001b[1;32m    187\u001b[0m \u001b[0;34m\u001b[0m\u001b[0m\n\u001b[1;32m    188\u001b[0m     \u001b[0;32mwith\u001b[0m \u001b[0mutil\u001b[0m\u001b[0;34m.\u001b[0m\u001b[0mContextTimer\u001b[0m\u001b[0;34m(\u001b[0m\u001b[0;34m)\u001b[0m \u001b[0;32mas\u001b[0m \u001b[0mt\u001b[0m\u001b[0;34m:\u001b[0m\u001b[0;34m\u001b[0m\u001b[0;34m\u001b[0m\u001b[0m\n\u001b[0;32m--> 189\u001b[0;31m         \u001b[0mfid_scores_xz\u001b[0m \u001b[0;34m=\u001b[0m \u001b[0mfid_score\u001b[0m\u001b[0;34m(\u001b[0m\u001b[0mX\u001b[0m\u001b[0;34m,\u001b[0m \u001b[0mZ\u001b[0m\u001b[0;34m,\u001b[0m \u001b[0;34m**\u001b[0m\u001b[0msplit_args\u001b[0m\u001b[0;34m)\u001b[0m\u001b[0;34m\u001b[0m\u001b[0;34m\u001b[0m\u001b[0m\n\u001b[0m\u001b[1;32m    190\u001b[0m \u001b[0;34m\u001b[0m\u001b[0m\n\u001b[1;32m    191\u001b[0m         \u001b[0mfid_score_xz\u001b[0m \u001b[0;34m=\u001b[0m \u001b[0mnp\u001b[0m\u001b[0;34m.\u001b[0m\u001b[0mmean\u001b[0m\u001b[0;34m(\u001b[0m\u001b[0mfid_scores_xz\u001b[0m\u001b[0;34m)\u001b[0m\u001b[0;34m\u001b[0m\u001b[0;34m\u001b[0m\u001b[0m\n",
      "\u001b[0;32m~/Documents/projects/model-comparison-test/reproduce-results/helper.py\u001b[0m in \u001b[0;36mfid_score\u001b[0;34m(codes_g, codes_r, eps, output, **split_args)\u001b[0m\n\u001b[1;32m    149\u001b[0m         \u001b[0mcov_r\u001b[0m \u001b[0;34m=\u001b[0m \u001b[0mnp\u001b[0m\u001b[0;34m.\u001b[0m\u001b[0mcov\u001b[0m\u001b[0;34m(\u001b[0m\u001b[0mpart_r\u001b[0m\u001b[0;34m,\u001b[0m \u001b[0mrowvar\u001b[0m\u001b[0;34m=\u001b[0m\u001b[0;32mFalse\u001b[0m\u001b[0;34m)\u001b[0m\u001b[0;34m\u001b[0m\u001b[0;34m\u001b[0m\u001b[0m\n\u001b[1;32m    150\u001b[0m \u001b[0;34m\u001b[0m\u001b[0m\n\u001b[0;32m--> 151\u001b[0;31m         \u001b[0mcovmean\u001b[0m\u001b[0;34m,\u001b[0m \u001b[0m_\u001b[0m \u001b[0;34m=\u001b[0m \u001b[0mlinalg\u001b[0m\u001b[0;34m.\u001b[0m\u001b[0msqrtm\u001b[0m\u001b[0;34m(\u001b[0m\u001b[0mcov_g\u001b[0m\u001b[0;34m.\u001b[0m\u001b[0mdot\u001b[0m\u001b[0;34m(\u001b[0m\u001b[0mcov_r\u001b[0m\u001b[0;34m)\u001b[0m\u001b[0;34m,\u001b[0m \u001b[0mdisp\u001b[0m\u001b[0;34m=\u001b[0m\u001b[0;32mFalse\u001b[0m\u001b[0;34m)\u001b[0m\u001b[0;34m\u001b[0m\u001b[0;34m\u001b[0m\u001b[0m\n\u001b[0m\u001b[1;32m    152\u001b[0m         \u001b[0;32mif\u001b[0m \u001b[0;32mnot\u001b[0m \u001b[0mnp\u001b[0m\u001b[0;34m.\u001b[0m\u001b[0misfinite\u001b[0m\u001b[0;34m(\u001b[0m\u001b[0mcovmean\u001b[0m\u001b[0;34m)\u001b[0m\u001b[0;34m.\u001b[0m\u001b[0mall\u001b[0m\u001b[0;34m(\u001b[0m\u001b[0;34m)\u001b[0m\u001b[0;34m:\u001b[0m\u001b[0;34m\u001b[0m\u001b[0;34m\u001b[0m\u001b[0m\n\u001b[1;32m    153\u001b[0m             \u001b[0mcov_g\u001b[0m\u001b[0;34m[\u001b[0m\u001b[0mrange\u001b[0m\u001b[0;34m(\u001b[0m\u001b[0md\u001b[0m\u001b[0;34m)\u001b[0m\u001b[0;34m,\u001b[0m \u001b[0mrange\u001b[0m\u001b[0;34m(\u001b[0m\u001b[0md\u001b[0m\u001b[0;34m)\u001b[0m\u001b[0;34m]\u001b[0m \u001b[0;34m+=\u001b[0m \u001b[0meps\u001b[0m\u001b[0;34m\u001b[0m\u001b[0;34m\u001b[0m\u001b[0m\n",
      "\u001b[0;32m~/anaconda3/lib/python3.7/site-packages/scipy/linalg/_matfuncs_sqrtm.py\u001b[0m in \u001b[0;36msqrtm\u001b[0;34m(A, disp, blocksize)\u001b[0m\n\u001b[1;32m    168\u001b[0m     \u001b[0mkeep_it_real\u001b[0m \u001b[0;34m=\u001b[0m \u001b[0mnp\u001b[0m\u001b[0;34m.\u001b[0m\u001b[0misrealobj\u001b[0m\u001b[0;34m(\u001b[0m\u001b[0mA\u001b[0m\u001b[0;34m)\u001b[0m\u001b[0;34m\u001b[0m\u001b[0;34m\u001b[0m\u001b[0m\n\u001b[1;32m    169\u001b[0m     \u001b[0;32mif\u001b[0m \u001b[0mkeep_it_real\u001b[0m\u001b[0;34m:\u001b[0m\u001b[0;34m\u001b[0m\u001b[0;34m\u001b[0m\u001b[0m\n\u001b[0;32m--> 170\u001b[0;31m         \u001b[0mT\u001b[0m\u001b[0;34m,\u001b[0m \u001b[0mZ\u001b[0m \u001b[0;34m=\u001b[0m \u001b[0mschur\u001b[0m\u001b[0;34m(\u001b[0m\u001b[0mA\u001b[0m\u001b[0;34m)\u001b[0m\u001b[0;34m\u001b[0m\u001b[0;34m\u001b[0m\u001b[0m\n\u001b[0m\u001b[1;32m    171\u001b[0m         \u001b[0;32mif\u001b[0m \u001b[0;32mnot\u001b[0m \u001b[0mnp\u001b[0m\u001b[0;34m.\u001b[0m\u001b[0marray_equal\u001b[0m\u001b[0;34m(\u001b[0m\u001b[0mT\u001b[0m\u001b[0;34m,\u001b[0m \u001b[0mnp\u001b[0m\u001b[0;34m.\u001b[0m\u001b[0mtriu\u001b[0m\u001b[0;34m(\u001b[0m\u001b[0mT\u001b[0m\u001b[0;34m)\u001b[0m\u001b[0;34m)\u001b[0m\u001b[0;34m:\u001b[0m\u001b[0;34m\u001b[0m\u001b[0;34m\u001b[0m\u001b[0m\n\u001b[1;32m    172\u001b[0m             \u001b[0mT\u001b[0m\u001b[0;34m,\u001b[0m \u001b[0mZ\u001b[0m \u001b[0;34m=\u001b[0m \u001b[0mrsf2csf\u001b[0m\u001b[0;34m(\u001b[0m\u001b[0mT\u001b[0m\u001b[0;34m,\u001b[0m \u001b[0mZ\u001b[0m\u001b[0;34m)\u001b[0m\u001b[0;34m\u001b[0m\u001b[0;34m\u001b[0m\u001b[0m\n",
      "\u001b[0;32m~/anaconda3/lib/python3.7/site-packages/scipy/linalg/decomp_schur.py\u001b[0m in \u001b[0;36mschur\u001b[0;34m(a, output, lwork, overwrite_a, sort, check_finite)\u001b[0m\n\u001b[1;32m    160\u001b[0m \u001b[0;34m\u001b[0m\u001b[0m\n\u001b[1;32m    161\u001b[0m     result = gees(sfunction, a1, lwork=lwork, overwrite_a=overwrite_a,\n\u001b[0;32m--> 162\u001b[0;31m                   sort_t=sort_t)\n\u001b[0m\u001b[1;32m    163\u001b[0m \u001b[0;34m\u001b[0m\u001b[0m\n\u001b[1;32m    164\u001b[0m     \u001b[0minfo\u001b[0m \u001b[0;34m=\u001b[0m \u001b[0mresult\u001b[0m\u001b[0;34m[\u001b[0m\u001b[0;34m-\u001b[0m\u001b[0;36m1\u001b[0m\u001b[0;34m]\u001b[0m\u001b[0;34m\u001b[0m\u001b[0;34m\u001b[0m\u001b[0m\n",
      "\u001b[0;31mKeyboardInterrupt\u001b[0m: "
     ]
    }
   ],
   "source": [
    "n_trials = 100\n",
    "psi_res = []\n",
    "cor_res = []\n",
    "fid_scores = []\n",
    "for seed in range(n_trials):\n",
    "    ## Sample from model\n",
    "    model_samples, ref_samples = celeba.sample(n_samples, seed)\n",
    "    \n",
    "    psiTest = MCTestPSI(ref_samples)\n",
    "    corTest = MCTestCorr(ref_samples)\n",
    "    \n",
    "    ## Perform Test\n",
    "    bandwidth = med_heuristic(model_samples, ref_samples,\n",
    "                subsample=1000)\n",
    "    mmd_u = MMD_U(kernel.KIMQ())\n",
    "    psi_res.append(psiTest.perform_tests(model_samples,mmd_u))\n",
    "    cor_res.append(corTest.perform_tests(model_samples, mmd_u, split=0.5, density=False, correction=0))\n",
    "    \n",
    "    ## Calculate FID\n",
    "    fid_score = []\n",
    "    for j, model_samples in enumerate(model_samples):\n",
    "        fid_score.append(fid(model_samples,ref_samples))\n",
    "    fid_scores.append(fid_score)"
   ]
  },
  {
   "cell_type": "code",
   "execution_count": 6,
   "metadata": {},
   "outputs": [
    {
     "name": "stdout",
     "output_type": "stream",
     "text": [
      "{'av_rej': array([0.98913043, 0.36956522, 0.27173913, 0.02173913, 0.05434783]), 'av_sel': array([0.        , 0.01086957, 0.0326087 , 0.52173913, 0.43478261]), 'av_time': 13.940219404904742}\n",
      "{'av_rej': array([1.        , 0.18478261, 0.19565217, 0.0326087 , 0.        ]), 'av_sel': array([0.        , 0.06521739, 0.10869565, 0.36956522, 0.45652174]), 'av_time': 3.629944656206214}\n"
     ]
    }
   ],
   "source": [
    "n_models = len(model_mixtures)\n",
    "print(summary(psi_res,n_models))\n",
    "print(summary(cor_res,n_models))"
   ]
  },
  {
   "cell_type": "code",
   "execution_count": 9,
   "metadata": {},
   "outputs": [
    {
     "name": "stdout",
     "output_type": "stream",
     "text": [
      "[27.79131268 16.00136641 16.31978307 16.07260718 16.04231602]\n",
      "[27.76755216 15.99755937 16.33001294 16.0470361  16.03376371]\n"
     ]
    }
   ],
   "source": [
    "fid_results = { 'ind_sel':np.zeros(n_models),\n",
    "          'av_fid': np.zeros(n_models)}\n",
    "for trial in fid_scores:\n",
    "    l_fids=[model1 for model1 in trial]\n",
    "    ind_sel = np.argmin(l_fids)\n",
    "    fid_results['ind_sel'][ind_sel] += 1/len(fid_scores)\n",
    "    fid_results['av_fid'] =fid_results['av_fid']+ np.array(l_fids)/len(fid_scores)\n",
    "fids=[]\n",
    "for trial in fid_scores:\n",
    "    fids.append([model1 for model1 in trial])\n",
    "print(np.mean(np.array(fids),axis=0))\n",
    "print(np.median(np.array(fids),axis=0))\n"
   ]
  },
  {
   "cell_type": "code",
   "execution_count": 10,
   "metadata": {},
   "outputs": [
    {
     "data": {
      "text/html": [
       "<div>\n",
       "<style scoped>\n",
       "    .dataframe tbody tr th:only-of-type {\n",
       "        vertical-align: middle;\n",
       "    }\n",
       "\n",
       "    .dataframe tbody tr th {\n",
       "        vertical-align: top;\n",
       "    }\n",
       "\n",
       "    .dataframe thead th {\n",
       "        text-align: right;\n",
       "    }\n",
       "</style>\n",
       "<table border=\"1\" class=\"dataframe\">\n",
       "  <thead>\n",
       "    <tr style=\"text-align: right;\">\n",
       "      <th></th>\n",
       "      <th>model_mix</th>\n",
       "      <th>test_psi_sel</th>\n",
       "      <th>test_psi_rej</th>\n",
       "      <th>test_cor_sel</th>\n",
       "      <th>test_cor_rej</th>\n",
       "      <th>fid_results_sel</th>\n",
       "      <th>fid_results_av</th>\n",
       "      <th>fid_results_std</th>\n",
       "    </tr>\n",
       "  </thead>\n",
       "  <tbody>\n",
       "    <tr>\n",
       "      <th>0</th>\n",
       "      <td>[0.5, 0.5, 0.0, 0.0]</td>\n",
       "      <td>0.000000</td>\n",
       "      <td>0.989130</td>\n",
       "      <td>0.000000</td>\n",
       "      <td>1.000000</td>\n",
       "      <td>0.000000</td>\n",
       "      <td>27.791313</td>\n",
       "      <td>0.586255</td>\n",
       "    </tr>\n",
       "    <tr>\n",
       "      <th>1</th>\n",
       "      <td>[0.0, 0.0, 0.6, 0.4]</td>\n",
       "      <td>0.010870</td>\n",
       "      <td>0.369565</td>\n",
       "      <td>0.065217</td>\n",
       "      <td>0.184783</td>\n",
       "      <td>0.439560</td>\n",
       "      <td>16.001366</td>\n",
       "      <td>0.203531</td>\n",
       "    </tr>\n",
       "    <tr>\n",
       "      <th>2</th>\n",
       "      <td>[0.0, 0.0, 0.4, 0.6]</td>\n",
       "      <td>0.032609</td>\n",
       "      <td>0.271739</td>\n",
       "      <td>0.108696</td>\n",
       "      <td>0.195652</td>\n",
       "      <td>0.043956</td>\n",
       "      <td>16.319783</td>\n",
       "      <td>0.228973</td>\n",
       "    </tr>\n",
       "    <tr>\n",
       "      <th>3</th>\n",
       "      <td>[0.0, 0.0, 0.51, 0.49]</td>\n",
       "      <td>0.521739</td>\n",
       "      <td>0.021739</td>\n",
       "      <td>0.369565</td>\n",
       "      <td>0.032609</td>\n",
       "      <td>0.208791</td>\n",
       "      <td>16.072607</td>\n",
       "      <td>0.229746</td>\n",
       "    </tr>\n",
       "    <tr>\n",
       "      <th>4</th>\n",
       "      <td>[0.0, 0.0, 0.52, 0.48]</td>\n",
       "      <td>0.434783</td>\n",
       "      <td>0.054348</td>\n",
       "      <td>0.456522</td>\n",
       "      <td>0.000000</td>\n",
       "      <td>0.307692</td>\n",
       "      <td>16.042316</td>\n",
       "      <td>0.214285</td>\n",
       "    </tr>\n",
       "  </tbody>\n",
       "</table>\n",
       "</div>"
      ],
      "text/plain": [
       "                model_mix  test_psi_sel  test_psi_rej  test_cor_sel  \\\n",
       "0    [0.5, 0.5, 0.0, 0.0]      0.000000      0.989130      0.000000   \n",
       "1    [0.0, 0.0, 0.6, 0.4]      0.010870      0.369565      0.065217   \n",
       "2    [0.0, 0.0, 0.4, 0.6]      0.032609      0.271739      0.108696   \n",
       "3  [0.0, 0.0, 0.51, 0.49]      0.521739      0.021739      0.369565   \n",
       "4  [0.0, 0.0, 0.52, 0.48]      0.434783      0.054348      0.456522   \n",
       "\n",
       "   test_cor_rej  fid_results_sel  fid_results_av  fid_results_std  \n",
       "0      1.000000         0.000000       27.791313         0.586255  \n",
       "1      0.184783         0.439560       16.001366         0.203531  \n",
       "2      0.195652         0.043956       16.319783         0.228973  \n",
       "3      0.032609         0.208791       16.072607         0.229746  \n",
       "4      0.000000         0.307692       16.042316         0.214285  "
      ]
     },
     "execution_count": 10,
     "metadata": {},
     "output_type": "execute_result"
    }
   ],
   "source": [
    "dict_res = {\n",
    "    'model_mix':model_mixtures,\n",
    "    'test_psi_sel':summary(psi_res,n_models)['av_sel'],\n",
    "    'test_psi_rej':summary(psi_res,n_models)['av_rej'],\n",
    "    'test_cor_sel':summary(cor_res,n_models)['av_sel'],\n",
    "    'test_cor_rej':summary(cor_res,n_models)['av_rej'],\n",
    "    'fid_results_sel':fid_results['ind_sel'],\n",
    "    'fid_results_av':fid_results['av_fid'],\n",
    "    'fid_results_std':np.std(np.array(fids),axis=0),\n",
    "}\n",
    "pd.DataFrame.from_dict(dict_res)"
   ]
  },
  {
   "cell_type": "code",
   "execution_count": null,
   "metadata": {},
   "outputs": [],
   "source": []
  },
  {
   "cell_type": "code",
   "execution_count": null,
   "metadata": {},
   "outputs": [],
   "source": []
  },
  {
   "cell_type": "code",
   "execution_count": null,
   "metadata": {},
   "outputs": [],
   "source": []
  },
  {
   "cell_type": "code",
   "execution_count": null,
   "metadata": {},
   "outputs": [],
   "source": []
  },
  {
   "cell_type": "code",
   "execution_count": null,
   "metadata": {},
   "outputs": [],
   "source": []
  },
  {
   "cell_type": "code",
   "execution_count": null,
   "metadata": {},
   "outputs": [],
   "source": []
  },
  {
   "cell_type": "code",
   "execution_count": null,
   "metadata": {},
   "outputs": [],
   "source": []
  },
  {
   "cell_type": "code",
   "execution_count": null,
   "metadata": {},
   "outputs": [],
   "source": []
  },
  {
   "cell_type": "code",
   "execution_count": null,
   "metadata": {},
   "outputs": [],
   "source": []
  },
  {
   "cell_type": "code",
   "execution_count": null,
   "metadata": {},
   "outputs": [],
   "source": []
  },
  {
   "cell_type": "code",
   "execution_count": null,
   "metadata": {},
   "outputs": [],
   "source": []
  },
  {
   "cell_type": "code",
   "execution_count": null,
   "metadata": {},
   "outputs": [],
   "source": []
  }
 ],
 "metadata": {
  "kernelspec": {
   "display_name": "Python 3",
   "language": "python",
   "name": "python3"
  },
  "language_info": {
   "codemirror_mode": {
    "name": "ipython",
    "version": 3
   },
   "file_extension": ".py",
   "mimetype": "text/x-python",
   "name": "python",
   "nbconvert_exporter": "python",
   "pygments_lexer": "ipython3",
   "version": "3.7.3"
  }
 },
 "nbformat": 4,
 "nbformat_minor": 2
}
