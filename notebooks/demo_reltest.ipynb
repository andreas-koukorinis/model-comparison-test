{
 "cells": [
  {
   "cell_type": "markdown",
   "metadata": {},
   "source": [
    "### Introduction to ```nreltest```\n",
    "\n",
    "This notebook will introduce to you kernel multiple model comparison with relative fit testing."
   ]
  },
  {
   "cell_type": "code",
   "execution_count": 1,
   "metadata": {},
   "outputs": [],
   "source": [
    "%load_ext autoreload\n",
    "%autoreload 2\n",
    "%matplotlib inline\n",
    "\n",
    "import numpy as np\n",
    "import matplotlib.pyplot as plt\n",
    "import reltest\n",
    "import reltest.util as util"
   ]
  },
  {
   "cell_type": "markdown",
   "metadata": {},
   "source": [
    "### Example 1: Mean shift model comparison with Maximum Mean Discrepancy\n",
    "\n",
    "#### Problem Setting\n",
    "\n",
    "In this problem, we consider 3 mean shifted models with the reference distribution as $\\mathcal{N}(0,1)$. In this case, we assume that only samples can be drawn. For the candidate models, we use as Model 1 $\\mathcal{N}(1,1)$, Model 2 $\\mathcal{N}(2,1)$ and Model 3 $\\mathcal{N}(3,1)$. Note that Model 1 is the closest and so the best."
   ]
  },
  {
   "cell_type": "code",
   "execution_count": 2,
   "metadata": {},
   "outputs": [
    {
     "data": {
      "text/plain": [
       "<matplotlib.legend.Legend at 0x126416278>"
      ]
     },
     "execution_count": 2,
     "metadata": {},
     "output_type": "execute_result"
    },
    {
     "data": {
      "image/png": "[encoded data removed]",
      "text/plain": [
       "<Figure size 432x288 with 1 Axes>"
      ]
     },
     "metadata": {
      "needs_background": "light"
     },
     "output_type": "display_data"
    }
   ],
   "source": [
    "## Model 1.\n",
    "def model_one(n_samples ,seed=5):\n",
    "    with util.NumpySeedContext(seed):\n",
    "        return np.random.randn(n_samples,1) + 1\n",
    "\n",
    "## Model 2.\n",
    "def model_two(n_samples ,seed=6):\n",
    "    with util.NumpySeedContext(seed):\n",
    "        return np.random.randn(n_samples,1) + 2\n",
    "\n",
    "## Model 3.\n",
    "def model_thr(n_samples ,seed=7):\n",
    "    with util.NumpySeedContext(seed):\n",
    "        return np.random.randn(n_samples,1) + 3\n",
    "    \n",
    "## Reference.\n",
    "def reference(n_samples ,seed=0):\n",
    "    with util.NumpySeedContext(seed):\n",
    "        return np.random.randn(n_samples,1)\n",
    "\n",
    "## Number of samples\n",
    "n_samples = 5\n",
    "\n",
    "modelone = model_one(n_samples)\n",
    "modeltwo = model_two(n_samples)\n",
    "modelthr = model_thr(n_samples)\n",
    "\n",
    "ref = reference(n_samples)\n",
    "models = [modelone, modeltwo, modelthr]\n",
    "\n",
    "plt.hist(ref, label=\"Reference\")\n",
    "plt.hist(modelone, label=\"Model 1\")\n",
    "plt.hist(modeltwo, label=\"Model 2\")\n",
    "plt.hist(modelthr, label=\"Model 2\")\n",
    "plt.legend()"
   ]
  },
  {
   "cell_type": "markdown",
   "metadata": {},
   "source": [
    "#### The Maximum Mean Discrepancy\n",
    "\n",
    "The Maximum Mean Discrepancy with the Gaussian Kernel. The function ```med_heuristic``` calculates the median heuristic for the given model and reference. More elaborate strategies can be considered here instead."
   ]
  },
  {
   "cell_type": "code",
   "execution_count": 3,
   "metadata": {},
   "outputs": [],
   "source": [
    "med = reltest.mmd.med_heuristic(models, ref)\n",
    "kernel = reltest.kernel.KGauss(med)\n",
    "mmd = reltest.mmd.MMD_U(kernel)"
   ]
  },
  {
   "cell_type": "markdown",
   "metadata": {},
   "source": [
    "#### The Test\n",
    "\n",
    "The test is performed.\n",
    "\n",
    "The test outputs a dictionary of the ```'ind_sel'``` indicating the selected model.\n",
    "The p-values is ```'pvals'```."
   ]
  },
  {
   "cell_type": "code",
   "execution_count": 4,
   "metadata": {},
   "outputs": [
    {
     "data": {
      "text/plain": [
       "{'ind_sel': 1,\n",
       " 'h0_rejected': array([False, False,  True]),\n",
       " 'pvals': array([0.31626035, 1.        , 0.00110983]),\n",
       " 'time_secs': 0.007788181304931641}"
      ]
     },
     "execution_count": 4,
     "metadata": {},
     "output_type": "execute_result"
    }
   ],
   "source": [
    "mctest = reltest.mctest.MCTestPSI(ref, alpha=0.05)\n",
    "mctest.perform_tests(models, mmd)"
   ]
  },
  {
   "cell_type": "markdown",
   "metadata": {},
   "source": [
    "Note that the test does not use $p$-values to reject the test. See disclaimer."
   ]
  },
  {
   "cell_type": "code",
   "execution_count": null,
   "metadata": {},
   "outputs": [],
   "source": []
  }
 ],
 "metadata": {
  "kernelspec": {
   "display_name": "Python 3",
   "language": "python",
   "name": "python3"
  },
  "language_info": {
   "codemirror_mode": {
    "name": "ipython",
    "version": 3
   },
   "file_extension": ".py",
   "mimetype": "text/x-python",
   "name": "python",
   "nbconvert_exporter": "python",
   "pygments_lexer": "ipython3",
   "version": "3.7.3"
  }
 },
 "nbformat": 4,
 "nbformat_minor": 2
}
